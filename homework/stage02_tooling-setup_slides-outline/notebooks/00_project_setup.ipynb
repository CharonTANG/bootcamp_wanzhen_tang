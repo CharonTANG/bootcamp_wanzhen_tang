{
 "cells": [
  {
   "cell_type": "markdown",
   "id": "01dc9625-a7e8-48f0-af35-084814b819b2",
   "metadata": {},
   "source": [
    "“Environment & Config Check”"
   ]
  },
  {
   "cell_type": "code",
   "execution_count": 1,
   "id": "8af8d49e-479d-4748-8a87-f45f599ab662",
   "metadata": {},
   "outputs": [
    {
     "data": {
      "text/plain": [
       "True"
      ]
     },
     "execution_count": 1,
     "metadata": {},
     "output_type": "execute_result"
    }
   ],
   "source": [
    "from dotenv import load_dotenv\n",
    "load_dotenv()\n"
   ]
  },
  {
   "cell_type": "code",
   "execution_count": 2,
   "id": "62e0485f-6721-40cc-a208-42e0d39ce629",
   "metadata": {},
   "outputs": [
    {
     "name": "stdout",
     "output_type": "stream",
     "text": [
      ".env loaded (if present)\n"
     ]
    }
   ],
   "source": [
    "import sys\n",
    "import os\n",
    "\n",
    "sys.path.append(os.path.abspath(\"..\"))\n",
    "\n",
    "from src.config import *"
   ]
  },
  {
   "cell_type": "code",
   "execution_count": 3,
   "id": "6a5a2439-1f85-4290-afa4-7511b9d20195",
   "metadata": {},
   "outputs": [
    {
     "name": "stdout",
     "output_type": "stream",
     "text": [
      "API_KEY present: True\n",
      "DATA_DIR from env: ./data\n",
      "Ensured data directory exists.\n"
     ]
    }
   ],
   "source": [
    "api_key_present = get_key(\"API_KEY\") is not None\n",
    "data_dir_env = get_key(\"DATA_DIR\", str(DATA_DIR))\n",
    "print(\"API_KEY present:\", api_key_present)\n",
    "print(\"DATA_DIR from env:\", data_dir_env)\n",
    "\n",
    "# Ensure data directory exists (non-destructive)\n",
    "Path(data_dir_env).mkdir(parents=True, exist_ok=True)\n",
    "print(\"Ensured data directory exists.\")"
   ]
  },
  {
   "cell_type": "code",
   "execution_count": 4,
   "id": "0df543bb-5506-4409-a60c-892a198000ff",
   "metadata": {},
   "outputs": [
    {
     "name": "stdout",
     "output_type": "stream",
     "text": [
      "Orignal [1 2 3 4]\n",
      "Result: [ 1  4  9 16]\n"
     ]
    }
   ],
   "source": [
    "import numpy as np\n",
    "\n",
    "arr = np.array([1, 2, 3, 4])\n",
    "\n",
    "# square it \n",
    "result = arr ** 2\n",
    "\n",
    "print(\"Orignal\", arr)\n",
    "print(\"Result:\", result)"
   ]
  },
  {
   "cell_type": "code",
   "execution_count": null,
   "id": "65e48bd8-974e-426c-880b-f276ea8003db",
   "metadata": {},
   "outputs": [],
   "source": [
    "\n"
   ]
  }
 ],
 "metadata": {
  "kernelspec": {
   "display_name": "Python (bootcamp_env)",
   "language": "python",
   "name": "bootcamp_env"
  },
  "language_info": {
   "codemirror_mode": {
    "name": "ipython",
    "version": 3
   },
   "file_extension": ".py",
   "mimetype": "text/x-python",
   "name": "python",
   "nbconvert_exporter": "python",
   "pygments_lexer": "ipython3",
   "version": "3.10.18"
  }
 },
 "nbformat": 4,
 "nbformat_minor": 5
}
